{
 "cells": [
  {
   "cell_type": "code",
   "execution_count": 1,
   "id": "3e43c925",
   "metadata": {},
   "outputs": [
    {
     "name": "stdout",
     "output_type": "stream",
     "text": [
      "{\n",
      "    \"reference_color_checker_path\": \"dataset/colorchecker/colorchecker.png\",\n",
      "    \"training_path\": \"dataset/training\",\n",
      "    \"colorchecker_reference_for_project\": [],\n",
      "    \"object_reference_path\": null,\n",
      "    \"technical_drawing_path_layer_1\": null,\n",
      "    \"technical_drawing_path_layer_2\": null,\n",
      "    \"technical_drawing_path_layer_3\": null,\n",
      "    \"aruco_reference_path\": \"dataset/aruco/default_aruco_reference.png\",\n",
      "    \"aruco_marker_map\": {},\n",
      "    \"aruco_output_size\": [\n",
      "        1000,\n",
      "        1000\n",
      "    ]\n",
      "}\n"
     ]
    }
   ],
   "source": [
    "import json\n",
    "\n",
    "# Path to the JSON file\n",
    "file_path = r\"data\\projects\\benagol\\project_config.json\"\n",
    "\n",
    "# Read and print the content of the JSON file\n",
    "with open(file_path, 'r') as file:\n",
    "    data = json.load(file)\n",
    "    print(json.dumps(data, indent=4))"
   ]
  }
 ],
 "metadata": {
  "kernelspec": {
   "display_name": ".venv",
   "language": "python",
   "name": "python3"
  },
  "language_info": {
   "codemirror_mode": {
    "name": "ipython",
    "version": 3
   },
   "file_extension": ".py",
   "mimetype": "text/x-python",
   "name": "python",
   "nbconvert_exporter": "python",
   "pygments_lexer": "ipython3",
   "version": "3.12.10"
  }
 },
 "nbformat": 4,
 "nbformat_minor": 5
}
