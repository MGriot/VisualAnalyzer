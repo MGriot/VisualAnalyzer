{
 "cells": [
  {
   "cell_type": "markdown",
   "id": "f79170a3",
   "metadata": {},
   "source": [
    "# Cell 1: Imports\n",
    "This cell imports all the necessary libraries and modules for the analysis."
   ]
  },
  {
   "cell_type": "code",
   "execution_count": null,
   "id": "981f1515",
   "metadata": {},
   "outputs": [],
   "source": [
    "import os\n",
    "import cv2\n",
    "import numpy as np\n",
    "import warnings\n",
    "import matplotlib.pyplot as plt\n",
    "from types import SimpleNamespace\n",
    "\n",
    "# Suppress NumPy warnings\n",
    "warnings.filterwarnings(\"ignore\", category=RuntimeWarning, module=\"numpy\")\n",
    "\n",
    "# Import your custom modules\n",
    "# Make sure your 'src' directory is in the Python path\n",
    "from src.color_analysis.project_manager import ProjectManager\n",
    "from src.color_analysis.analyzer import ColorAnalyzer\n",
    "from src.color_correction.corrector import ColorCorrector\n",
    "from src.alignment.aligner import Aligner, generate_aruco_marker_map\n",
    "from src.reporting.generator import ReportGenerator\n",
    "from src.utils.image_utils import load_image, save_image, blur_image\n",
    "from src.utils.video_utils import process_video_stream\n",
    "from src.symmetry_analysis.symmetry import SymmetryAnalyzer\n",
    "from src import config\n",
    "\n",
    "print(\"All libraries and modules imported successfully.\")"
   ]
  },
  {
   "cell_type": "markdown",
   "id": "c3dcf81a",
   "metadata": {},
   "source": [
    "# Cell 2: Simulate Command-Line Arguments\n",
    "In a script, you use argparse to get settings from the command line. In a notebook, we can simulate this by creating an object (args) that holds all the necessary configuration. These settings are taken directly from the command you provided."
   ]
  },
  {
   "cell_type": "code",
   "execution_count": null,
   "id": "d82d4e72",
   "metadata": {},
   "outputs": [],
   "source": [
    "# Simulate the command-line arguments for a specific run\n",
    "# COMMAND: python src/main.py --project benagol --image data\\projects\\benagol\\samples\\test\\sample\\image1.png\n",
    "#          --color-alignment --sample-color-checker data\\projects\\benagol\\samples\\benagol\\colorchecker\\colorchecker.png\n",
    "#          --symmetry --report-type reportlab --aggregate --debug --alignment\n",
    "\n",